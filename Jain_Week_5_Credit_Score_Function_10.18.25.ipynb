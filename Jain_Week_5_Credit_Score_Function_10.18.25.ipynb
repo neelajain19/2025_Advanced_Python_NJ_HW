{
 "cells": [
  {
   "cell_type": "markdown",
   "metadata": {},
   "source": [
    "# Functions & Downloads\n",
    "\n",
    "Today we'll learn how to write more efficient code using ```functions``` and then apply them toward scraping/downloading documents from the Web."
   ]
  },
  {
   "cell_type": "markdown",
   "metadata": {
    "id": "LqFjblutisVw"
   },
   "source": [
    "## Functions: Making Your Code Work Smarter\n",
    "\n",
    "A **function** is a reusable block of code that performs a specific task. Instead of writing the same code over and over, you write it once in a function and call it whenever you need it.\n",
    "\n",
    "Functions help you:\n",
    "* **Stay DRY** (Don't Repeat Yourself) – write code once, use it many times\n",
    "* **Organize your code** – break complex problems into smaller, manageable pieces\n",
    "* **Make debugging easier** – fix issues in one place instead of hunting through repeated code\n",
    "* **Build modular programs** – combine simple functions to accomplish complex tasks\n",
    "\n",
    "A function runs only when something \"invokes\" or \"calls\" it, giving you control over when and how your code executes.\n"
   ]
  },
  {
   "cell_type": "code",
   "execution_count": 3,
   "metadata": {},
   "outputs": [
    {
     "name": "stdout",
     "output_type": "stream",
     "text": [
      "Hello World!\n"
     ]
    }
   ],
   "source": [
    "## You've already been using functions\n",
    "print(\"Hello World!\")"
   ]
  },
  {
   "cell_type": "code",
   "execution_count": 4,
   "metadata": {},
   "outputs": [],
   "source": [
    "## define a function that says \"Hello World\"\n",
    "def sayHello():\n",
    "    print(\"Hello World!\")"
   ]
  },
  {
   "cell_type": "code",
   "execution_count": 5,
   "metadata": {},
   "outputs": [
    {
     "name": "stdout",
     "output_type": "stream",
     "text": [
      "Hello World!\n"
     ]
    }
   ],
   "source": [
    "## invoke\" or \"call\" the function\n",
    "sayHello()"
   ]
  },
  {
   "cell_type": "code",
   "execution_count": 6,
   "metadata": {},
   "outputs": [],
   "source": [
    "## Let's create one that prints a name\n",
    "def sayHello():\n",
    "    print(\"Hello Sandeep, hope you're having a good day!\")"
   ]
  },
  {
   "cell_type": "code",
   "execution_count": 7,
   "metadata": {},
   "outputs": [],
   "source": [
    "## what if we want a different name?\n",
    "def sayHello2():\n",
    "    print(\"Hello Frank, hope you're having a good day!\")"
   ]
  },
  {
   "cell_type": "code",
   "execution_count": 8,
   "metadata": {},
   "outputs": [
    {
     "name": "stdout",
     "output_type": "stream",
     "text": [
      "Hello Frank, hope you're having a good day!\n"
     ]
    }
   ],
   "source": [
    "sayHello2()"
   ]
  },
  {
   "cell_type": "code",
   "execution_count": 9,
   "metadata": {},
   "outputs": [],
   "source": [
    "## instead of writing a different function for different names, we add a parameter:\n",
    "## rewrite so that can automatically input a name\n",
    "def sayHello(name):\n",
    "    print(f\"Hello {name}, hope you are having a great day!\")"
   ]
  },
  {
   "cell_type": "code",
   "execution_count": 10,
   "metadata": {},
   "outputs": [
    {
     "name": "stdout",
     "output_type": "stream",
     "text": [
      "Hello Sami, hope you are having a great day!\n"
     ]
    }
   ],
   "source": [
    "## Call updated function\n",
    "sayHello(\"Sami\")"
   ]
  },
  {
   "cell_type": "code",
   "execution_count": 11,
   "metadata": {},
   "outputs": [],
   "source": [
    "## Build a function called addNumbers that adds any 2 numbers together and prints:\n",
    "## \"The total is (whatever the number is)\"!\n",
    "## built it here\n",
    "def addNumbers(number1, number2):\n",
    "    total=number1 + number2\n",
    "    print(f\"The sum of {number1} and {number2} is {total}\")"
   ]
  },
  {
   "cell_type": "code",
   "execution_count": 12,
   "metadata": {},
   "outputs": [
    {
     "name": "stdout",
     "output_type": "stream",
     "text": [
      "The sum of 4 and 5 is 9\n"
     ]
    }
   ],
   "source": [
    "## Call myFunction using 4 and 5 as the arguments\n",
    "addNumbers(4,5)"
   ]
  },
  {
   "cell_type": "code",
   "execution_count": 13,
   "metadata": {},
   "outputs": [
    {
     "name": "stdout",
     "output_type": "stream",
     "text": [
      "The sum of Sandeep and Lucy is SandeepLucy\n"
     ]
    }
   ],
   "source": [
    "## Call myFunction using 2 strings instead of numbers.\n",
    "addNumbers(\"Sandeep\", \"Lucy\")"
   ]
  },
  {
   "cell_type": "code",
   "execution_count": 14,
   "metadata": {},
   "outputs": [],
   "source": [
    "## function that shows relationship between parameters and arguments\n",
    "## printing people's name and age\n",
    "\n",
    "def aging(name, age):\n",
    "    print(f\"{name} is {age}-years-old\")"
   ]
  },
  {
   "cell_type": "code",
   "execution_count": 15,
   "metadata": {},
   "outputs": [
    {
     "name": "stdout",
     "output_type": "stream",
     "text": [
      "Sandeep is 59-years-old\n"
     ]
    }
   ],
   "source": [
    "## invoke function\n",
    "aging(\"Sandeep\", 59)"
   ]
  },
  {
   "cell_type": "code",
   "execution_count": 16,
   "metadata": {},
   "outputs": [
    {
     "name": "stdout",
     "output_type": "stream",
     "text": [
      "59 is Sandeep-years-old\n"
     ]
    }
   ],
   "source": [
    "## note that if we put in a different order\n",
    "aging(59, \"Sandeep\")"
   ]
  },
  {
   "cell_type": "code",
   "execution_count": 17,
   "metadata": {},
   "outputs": [
    {
     "name": "stdout",
     "output_type": "stream",
     "text": [
      "The sum of 10 and 20 is 30\n"
     ]
    }
   ],
   "source": [
    "## So far we have only printed out values processed by a function.  But we really want to retain the values created by a function.\n",
    "## A function that adds two numbers together and prints the value:\n",
    "addNumbers(10, 20)"
   ]
  },
  {
   "cell_type": "code",
   "execution_count": 18,
   "metadata": {},
   "outputs": [
    {
     "name": "stdout",
     "output_type": "stream",
     "text": [
      "The sum of 10 and 20 is 30\n"
     ]
    }
   ],
   "source": [
    "## let's try to save it in  a variable\n",
    "my_result = addNumbers(10, 20)"
   ]
  },
  {
   "cell_type": "code",
   "execution_count": 19,
   "metadata": {},
   "outputs": [
    {
     "name": "stdout",
     "output_type": "stream",
     "text": [
      "None\n"
     ]
    }
   ],
   "source": [
    "## Print or call your variable. What does it hold?\n",
    "print(my_result)"
   ]
  },
  {
   "cell_type": "code",
   "execution_count": 20,
   "metadata": {},
   "outputs": [],
   "source": [
    "## type of data calculated\n"
   ]
  },
  {
   "cell_type": "code",
   "execution_count": 21,
   "metadata": {},
   "outputs": [],
   "source": [
    "## Tweak out function by adding return statement\n",
    "## instead of printing a value we want to return a value(or values)\n",
    "def addNumbers(number1, number2):\n",
    "    print(f\"The sum of {number1} and {number2} is {number1+number2}\")\n",
    "    return number1 + number2\n",
    "\n"
   ]
  },
  {
   "cell_type": "code",
   "execution_count": 22,
   "metadata": {},
   "outputs": [
    {
     "name": "stdout",
     "output_type": "stream",
     "text": [
      "The sum of 10 and 30 is 40\n"
     ]
    }
   ],
   "source": [
    "## call the function add_numbers_ret\n",
    "## and store in variable\n",
    "my_result = addNumbers(10,30)"
   ]
  },
  {
   "cell_type": "code",
   "execution_count": 23,
   "metadata": {},
   "outputs": [
    {
     "name": "stdout",
     "output_type": "stream",
     "text": [
      "40\n"
     ]
    }
   ],
   "source": [
    "## print\n",
    "print(my_result)"
   ]
  },
  {
   "cell_type": "code",
   "execution_count": 24,
   "metadata": {},
   "outputs": [
    {
     "data": {
      "text/plain": [
       "int"
      ]
     },
     "execution_count": 24,
     "metadata": {},
     "output_type": "execute_result"
    }
   ],
   "source": [
    "## What type?\n",
    "type(my_result)"
   ]
  },
  {
   "cell_type": "code",
   "execution_count": 25,
   "metadata": {},
   "outputs": [],
   "source": [
    "def pctChg(old_value, new_value):\n",
    "    return(new_value - old_value)/old_value * 100\n",
    "    "
   ]
  },
  {
   "cell_type": "code",
   "execution_count": 26,
   "metadata": {},
   "outputs": [
    {
     "data": {
      "text/plain": [
       "100.0"
      ]
     },
     "execution_count": 26,
     "metadata": {},
     "output_type": "execute_result"
    }
   ],
   "source": [
    "pctChg(50,100)"
   ]
  },
  {
   "cell_type": "code",
   "execution_count": 27,
   "metadata": {},
   "outputs": [
    {
     "data": {
      "text/plain": [
       "-50.0"
      ]
     },
     "execution_count": 27,
     "metadata": {},
     "output_type": "execute_result"
    }
   ],
   "source": [
    "pctChg(100,50)"
   ]
  },
  {
   "cell_type": "code",
   "execution_count": 28,
   "metadata": {},
   "outputs": [],
   "source": [
    "## Docstring is a way to know what function does\n",
    "## brief summary of what the function does\n",
    "## a description of each parameter and their expected data types\n",
    "## \n",
    "\n",
    "def pctChg(old_value, new_value):\n",
    "    '''\n",
    "    This function takes two numbers and returns the percent change\n",
    "    para1 = is the older number\n",
    "    para2 = is the newer number\n",
    "    '''\n",
    "    return (new_value - old_value)/old_value * 100\n"
   ]
  },
  {
   "cell_type": "code",
   "execution_count": 29,
   "metadata": {},
   "outputs": [
    {
     "data": {
      "text/plain": [
       "33.33333333333333"
      ]
     },
     "execution_count": 29,
     "metadata": {},
     "output_type": "execute_result"
    }
   ],
   "source": [
    "## run function\n",
    "pctChg(75,100)"
   ]
  },
  {
   "cell_type": "code",
   "execution_count": 30,
   "metadata": {},
   "outputs": [],
   "source": [
    "## if you hit shift+tab after the function so for example pctChg then you will see the docstring"
   ]
  },
  {
   "cell_type": "markdown",
   "metadata": {},
   "source": [
    "### Build a credit check function\n",
    "\n",
    "Recall that we built a conditional expression to evaluate credit rating based on these values:\n",
    "\n",
    "- 300-579: Poor\n",
    "- 580-669: Fair\n",
    "- 670-739: Good\n",
    "- 740-799: Very good\n",
    "- 800-850: Excellent\n",
    "\n",
    "Now build a function that evaluates a score to return a rating, but also prints \"Your credit rating is **whatever**!\""
   ]
  },
  {
   "cell_type": "markdown",
   "metadata": {},
   "source": [
    "## here is the expression we previously built:\n",
    "\n",
    "```python\n",
    "if credit <= 579:\n",
    "  print(f\"Your credit of {credit} is poor\")\n",
    "elif 579 < credit <= 669:\n",
    "  print(f\"Your credit of {credit} is fair\")\n",
    "elif 670 < credit <= 739:\n",
    "  print(f\"Your credit of {credit} is good\")\n",
    "elif 740 <= credit <= 799:\n",
    "  print(f\"Your credit of {credit} is very good\")\n",
    "else:\n",
    "  print(f\"Your credit of {credit} is excellent\")\n",
    "\n",
    "```\n",
    "\n",
    "Can you think of a way to make it more efficient and DRY."
   ]
  },
  {
   "cell_type": "code",
   "execution_count": 74,
   "metadata": {},
   "outputs": [],
   "source": [
    "## Code your function here\n",
    "\n",
    "def eval_credit_score(score):\n",
    "    ## Do a docstring to explain what the function does\n",
    "    ## Not sure why docstring didn't work when I did it with six apostrophes\n",
    "    '''\n",
    "    This function evaluates the rating of a credit score.\n",
    "    Prints the score too based on the below ratings.\n",
    "\n",
    "    Ratings:\n",
    "    300-579: Poor\n",
    "    580-669: Fair\n",
    "    670-739: Good\n",
    "    740-799: Very good\n",
    "    800-850: Excellent\n",
    "    '''\n",
    "    ## Evaluate the rating\n",
    "    if 300 <= score <= 579:\n",
    "      rating = \"poor\"\n",
    "    elif 579 < score <= 669:\n",
    "      rating = \"fair\"\n",
    "    elif 670 < score <= 739:\n",
    "      rating = \"good\"\n",
    "    elif 740 <= score <= 799:\n",
    "      rating = \"very good\"\n",
    "    else:\n",
    "      rating = \"excellent\"\n",
    "\n",
    "    ## State the message\n",
    "    print(f\"Your credit score of {score} is {rating}!\")\n",
    "    \n",
    "\n"
   ]
  },
  {
   "cell_type": "code",
   "execution_count": 78,
   "metadata": {},
   "outputs": [
    {
     "name": "stdout",
     "output_type": "stream",
     "text": [
      "Your credit score of 602 is fair!\n"
     ]
    }
   ],
   "source": [
    "eval_credit_score(602)"
   ]
  },
  {
   "cell_type": "markdown",
   "metadata": {},
   "source": [
    "## Why functions are awesome\n",
    "\n",
    "For functions I use regularly, I can simply import them and reduce time spent copy-n-pasting, or rewriting same functions.\n",
    "\n",
    "#### (The next few steps are demo only)"
   ]
  },
  {
   "cell_type": "code",
   "execution_count": 35,
   "metadata": {},
   "outputs": [
    {
     "name": "stdout",
     "output_type": "stream",
     "text": [
      "Collecting git+https://github.com/sandeepmj/my_functions.git\n",
      "  Cloning https://github.com/sandeepmj/my_functions.git to /private/var/folders/rh/0500xmc965b68qdvl6txhdjc0000gn/T/pip-req-build-tfxlvq2i\n",
      "  Running command git clone --filter=blob:none --quiet https://github.com/sandeepmj/my_functions.git /private/var/folders/rh/0500xmc965b68qdvl6txhdjc0000gn/T/pip-req-build-tfxlvq2i\n",
      "  Resolved https://github.com/sandeepmj/my_functions.git to commit d74bfc7c105c92892e7a5e0d5e98b711ab6f014b\n",
      "  Preparing metadata (setup.py) ... \u001b[?25ldone\n",
      "\u001b[?25hRequirement already satisfied: requests in /opt/anaconda3/lib/python3.12/site-packages (from my_functions==0.0.1) (2.32.3)\n",
      "Requirement already satisfied: charset-normalizer<4,>=2 in /opt/anaconda3/lib/python3.12/site-packages (from requests->my_functions==0.0.1) (3.3.2)\n",
      "Requirement already satisfied: idna<4,>=2.5 in /opt/anaconda3/lib/python3.12/site-packages (from requests->my_functions==0.0.1) (3.7)\n",
      "Requirement already satisfied: urllib3<3,>=1.21.1 in /opt/anaconda3/lib/python3.12/site-packages (from requests->my_functions==0.0.1) (2.2.3)\n",
      "Requirement already satisfied: certifi>=2017.4.17 in /opt/anaconda3/lib/python3.12/site-packages (from requests->my_functions==0.0.1) (2024.12.14)\n",
      "Note: you may need to restart the kernel to use updated packages.\n"
     ]
    }
   ],
   "source": [
    "pip install git+https://github.com/sandeepmj/my_functions.git"
   ]
  },
  {
   "cell_type": "code",
   "execution_count": 36,
   "metadata": {},
   "outputs": [],
   "source": [
    "## import my_fuctions\n",
    "##from_my_functions import timer\n"
   ]
  },
  {
   "cell_type": "code",
   "execution_count": 37,
   "metadata": {
    "scrolled": true
   },
   "outputs": [],
   "source": [
    "## writr a for loop that counts to 5 and print the number\n",
    "## add a timer\n",
    "## time(10,20)"
   ]
  },
  {
   "cell_type": "code",
   "execution_count": 38,
   "metadata": {},
   "outputs": [],
   "source": [
    "## call timer\n",
    "## for number in range(1,5):\n",
    "    ## print(\n"
   ]
  },
  {
   "cell_type": "markdown",
   "metadata": {},
   "source": [
    "### Your Challenge\n",
    "\n",
    "Write a function that makes a request to a website and returns the content as soup."
   ]
  },
  {
   "cell_type": "code",
   "execution_count": 40,
   "metadata": {},
   "outputs": [],
   "source": [
    "## write code here\n",
    "\n",
    "## dependencies\n",
    "import requests\n",
    "from bs4 import BeautifulSoup\n",
    "\n",
    "## function\n",
    "def makeSoup(url):\n",
    "    headers = {'User-Agent': 'Mozilla/5.0 (Windows NT 10.0; Win64; x64) AppleWebKit/537.36'} \n",
    "    response = requests.get(url, headers = headers)\n",
    "    if response.status_code == 200:\n",
    "        return BeautifulSoup(response.text, \"html.parser\")\n",
    "    else:\n",
    "        print(f\"Your request returned {response.status_code}\")\n",
    "\n"
   ]
  },
  {
   "cell_type": "code",
   "execution_count": 41,
   "metadata": {},
   "outputs": [],
   "source": [
    "## place url into a variable\n",
    "## typed it separately rather than putting into parameter so it is reusable\n",
    "url = \"https://sandeepmj.github.io/scrape-example-page/demo-text.html\""
   ]
  },
  {
   "cell_type": "code",
   "execution_count": 42,
   "metadata": {},
   "outputs": [
    {
     "data": {
      "text/plain": [
       "<!DOCTYPE html>\n",
       "\n",
       "<html lang=\"en\">\n",
       "<head>\n",
       "<title>title tag</title>\n",
       "<style>\n",
       "body {padding: 20px; max-width: 700px; margin: 0 auto;}\n",
       "</style>\n",
       "</head>\n",
       "<body>\n",
       "<h1 class=\"title\"><b>The title headline is Demo for BeautifulSoup</b></h1>\n",
       "<p>Learning to scrape using BeautifulSoup.</p>\n",
       "<div class=\"content article\">\n",
       "<section>\n",
       "<p>Here's some pretty useless info:</p>\n",
       "</section>\n",
       "<section class=\"main\" id=\"all_plants\">\n",
       "<h2 class=\"subhead\" id=\"vegitation\">Plants</h2>\n",
       "<p class=\"article\">Three plants that thrive in deep shade:</p>\n",
       "<ol>\n",
       "<li><a class=\"plants life\" href=\"http://example.com/plant1\" id=\"plant1\">Plant 1</a>: <span class=\"cost\">$10</span></li>\n",
       "<li><a class=\"plants life\" href=\"http://example.com/plant2\" id=\"plant2\">Plant 2</a>: <span class=\"cost\">$20</span></li>\n",
       "<li><a class=\"plants life\" href=\"http://example.com/plant3\" id=\"plant3\">Plant 3</a> <span class=\"cost\">$30</span></li>\n",
       "</ol>\n",
       "</section>\n",
       "<section class=\"main\" id=\"all_animals\">\n",
       "<h2 class=\"subhead\" id=\"creatures\">Animals</h2>\n",
       "<p class=\"article\"> Three animals in the barn:</p>\n",
       "<ol>\n",
       "<li><a class=\"animals life\" href=\"http://example.com/animal1\" id=\"animal1\">Animal 1</a>: <span class=\"cost\">$500</span></li>\n",
       "<li><a class=\"animals life\" href=\"http://example.com/animal2\" id=\"animal2\">Animal 2</a>: <span class=\"cost\">$600</span> </li>\n",
       "<li><a class=\"animals life\" href=\"http://example.com/animal3\" id=\"animal3\">Animal 3</a>: <span class=\"cost\">$700</span></li>\n",
       "</ol>\n",
       "</section>\n",
       "<section>\n",
       "<h2 class=\"subhead\" id=\"objects\">Objects</h2>\n",
       "<p class=\"article\"> Three shiny rocks:</p>\n",
       "<ol>\n",
       "<li><a class=\"rock inanimate\" href=\"http://example.com/rock1\" id=\"rock1\"><span>Rock 1</span></a></li>\n",
       "<li><a class=\"rock inanimate\" href=\"http://example.com/rock2\" id=\"rock2\"><span>Rock 2</span></a></li>\n",
       "<li><a class=\"rock inanimate\" href=\"http://example.com/rock2\" id=\"rock3\"><span>Rock 3</span></a></li>\n",
       "</ol>\n",
       "</section>\n",
       "<section>\n",
       "<h2>The seven classifications of animals</h2>\n",
       "<ul>\n",
       "<li><a class=\"animals\" href=\"http://example.com/kingdom\">Kingdom</a></li>\n",
       "<li><a class=\"animals\" href=\"http://example.com/phylum\">Phylum</a></li>\n",
       "<li><a class=\"animals\" href=\"http://example.com/class\">Class</a></li>\n",
       "<li><a class=\"animals\" href=\"http://example.com/order\">Order</a></li>\n",
       "<li><a class=\"animals\" href=\"http://example.com/family\">Family</a></li>\n",
       "<li><a class=\"animals\" href=\"http://example.com/genus\">Genus</a></li>\n",
       "<li><a class=\"animals\" href=\"http://example.com/species\">Species</a></li>\n",
       "</ul>\n",
       "</section>\n",
       "</div>\n",
       "</body>\n",
       "</html>"
      ]
     },
     "execution_count": 42,
     "metadata": {},
     "output_type": "execute_result"
    }
   ],
   "source": [
    "## invoke your function here\n",
    "makeSoup(url)"
   ]
  },
  {
   "cell_type": "code",
   "execution_count": 43,
   "metadata": {},
   "outputs": [],
   "source": [
    "##base_url = \"https://bestsellingalbums.org/decade/2010-\"\n",
    "\n",
    "##for url_number in range(2,4):\n",
    "    ##url = f\"{base_url}{url_number}\"\n",
    "    ##print(makeSoup(url))\n",
    "    ##timer(5,10)\n",
    "    ##print(\"\\n\\n\\n\\n\\n\\n\\n\\n\\n\\n\\n\")"
   ]
  },
  {
   "cell_type": "markdown",
   "metadata": {},
   "source": [
    "## Scraping/Downloading Web Documents\n",
    "\n",
    "You want to create a dataset that tracks how many companies the <a href=\"https://www.sec.gov/litigation/suspensions.shtml\">SEC suspended</a> between 2024 and 2004 (and for what reasons).\n",
    "\n",
    "We want to write a scraper that aggregates:\n",
    "\n",
    "* Date of suspension\n",
    "* Company name\n",
    "* Order\n",
    "* Release (the PDFs in the XX-YYYYY format\n",
    "\n",
    "The challenge? All that info is held in the PDFs.\n",
    "\n",
    "We will need to download all the PDFs before we can analyze the info.\n",
    "\n",
    "## Practice Site\n",
    "\n",
    "We'll practice the required techniques <a href=\"https://sandeepmj.github.io/scrape-example-page/pages.html\">on this demo site</a> by:\n",
    "\n",
    "1. downloading all ```txt``` files.\n",
    "2. downloading all ```pdf``` files.\n",
    "3. Perhaps all files at one time."
   ]
  },
  {
   "cell_type": "code",
   "execution_count": 45,
   "metadata": {},
   "outputs": [],
   "source": [
    "import time\n",
    "from random import uniform"
   ]
  },
  {
   "cell_type": "code",
   "execution_count": 46,
   "metadata": {},
   "outputs": [],
   "source": [
    "## command, shift, u to inpsect what is on the website?"
   ]
  },
  {
   "cell_type": "code",
   "execution_count": 47,
   "metadata": {},
   "outputs": [
    {
     "data": {
      "text/plain": [
       "<html lang=\"en\">\n",
       "<head>\n",
       "<!-- Makes the page responsive and scaled to be read easily -->\n",
       "<meta content=\"width=device-width, initial-scale=1\" name=\"viewport\"/>\n",
       "<!-- Links to stylesheet -->\n",
       "<link href=\"style.css\" rel=\"stylesheet\" type=\"text/css\"/>\n",
       "<!-- Remember to update page title -->\n",
       "<title>List of Documents</title>\n",
       "</head>\n",
       "<body>\n",
       "<!-- All content goes here -->\n",
       "<div class=\"container\">\n",
       "<h1>Documents to Download</h1>\n",
       "<li>Junk Li <a href=\"\">tag 1</a></li>\n",
       "<li>Junk Li <a href=\"\">tag 2</a></li>\n",
       "<ul class=\"txts downloadable\">\n",
       "<p class=\"pages\">Download this first set of text documents</p>\n",
       "<li>Text Document <a href=\"files/text_doc_01.txt\">1</a> </li>\n",
       "<li>Text Document <a href=\"files/text_doc_02.txt\">2</a></li>\n",
       "<li>Text Document <a href=\"files/text_doc_03.txt\">3</a></li>\n",
       "<li>Text Document <a href=\"files/text_doc_04.txt\">4</a></li>\n",
       "<li>Text Document <a href=\"files/text_doc_05.txt\">5</a></li>\n",
       "<li>Text Document <a href=\"files/text_doc_06.txt\">6</a></li>\n",
       "<li>Text Document <a href=\"files/text_doc_07.txt\">7</a></li>\n",
       "<li>Text Document <a href=\"files/text_doc_08.txt\">8</a></li>\n",
       "<li>Text Document <a href=\"files/text_doc_09.txt\">9</a></li>\n",
       "<li>Text Document <a href=\"files/text_doc_10.txt\">10</a></li>\n",
       "</ul>\n",
       "<li>Junk Li <a href=\"\">tag 3</a></li>\n",
       "<li>Junk Li <a href=\"\">tag 4</a></li>\n",
       "<ul class=\"pdfs downloadable\">\n",
       "<p class=\"pages\">Download this list of PDFs</p>\n",
       "<li>PDF Document <a href=\"files/pdf_1.pdf\">1</a> </li>\n",
       "<li>PDF Document <a href=\"files/pdf_2.pdf\">2</a></li>\n",
       "<li>PDF Document <a href=\"files/pdf_3.pdf\">3</a></li>\n",
       "<li>PDF Document <a href=\"files/pdf_4.pdf\">4</a></li>\n",
       "<li>PDF Document <a href=\"files/pdf_5.pdf\">5</a></li>\n",
       "<li>PDF Document <a href=\"files/pdf_6.pdf\">6</a></li>\n",
       "<li>PDF Document <a href=\"files/pdf_7.pdf\">7</a></li>\n",
       "<li>PDF Document <a href=\"files/pdf_8.pdf\">8</a></li>\n",
       "<li>PDF Document <a href=\"files/pdf_9.pdf\">9</a></li>\n",
       "<li>PDF Document <a href=\"files/pdf_10.pdf\">10</a></li>\n",
       "</ul>\n",
       "<li>Junk Li <a href=\"\">tag 5</a></li>\n",
       "<li>Junk Li <a href=\"\">tag 6</a></li>\n",
       "<ul class=\"txts downloadable\">\n",
       "<p class=\"pages\">Download this second set of text documents</p>\n",
       "<li>Text Document <a href=\"files/text_doc_A.txt\">1</a> </li>\n",
       "<li>Text Document <a href=\"files/text_doc_B.txt\">2</a></li>\n",
       "<li>Text Document <a href=\"files/text_doc_C.txt\">3</a></li>\n",
       "<li>Text Document <a href=\"files/text_doc_D.txt\">4</a></li>\n",
       "<li>Text Document <a href=\"files/text_doc_E.txt\">5</a></li>\n",
       "<li>Text Document <a href=\"files/text_doc_F.txt\">6</a></li>\n",
       "<li>Text Document <a href=\"files/text_doc_G.txt\">7</a></li>\n",
       "<li>Text Document <a href=\"files/text_doc_H.txt\">8</a></li>\n",
       "<li>Text Document <a href=\"files/text_doc_I.txt\">9</a></li>\n",
       "<li>Text Document <a href=\"files/text_doc_J.txt\">10</a></li>\n",
       "</ul>\n",
       "</div>\n",
       "</body>\n",
       "</html>"
      ]
     },
     "execution_count": 47,
     "metadata": {},
     "output_type": "execute_result"
    }
   ],
   "source": [
    "## make soup of the site\n",
    "url = \"https://sandeepmj.github.io/scrape-example-page/pages.html\"\n",
    "soup = makeSoup(url)\n",
    "soup"
   ]
  },
  {
   "cell_type": "code",
   "execution_count": 48,
   "metadata": {},
   "outputs": [
    {
     "data": {
      "text/plain": [
       "<html lang=\"en\">\n",
       "<head>\n",
       "<!-- Makes the page responsive and scaled to be read easily -->\n",
       "<meta content=\"width=device-width, initial-scale=1\" name=\"viewport\"/>\n",
       "<!-- Links to stylesheet -->\n",
       "<link href=\"style.css\" rel=\"stylesheet\" type=\"text/css\"/>\n",
       "<!-- Remember to update page title -->\n",
       "<title>List of Documents</title>\n",
       "</head>\n",
       "<body>\n",
       "<!-- All content goes here -->\n",
       "<div class=\"container\">\n",
       "<h1>Documents to Download</h1>\n",
       "<li>Junk Li <a href=\"\">tag 1</a></li>\n",
       "<li>Junk Li <a href=\"\">tag 2</a></li>\n",
       "<ul class=\"txts downloadable\">\n",
       "<p class=\"pages\">Download this first set of text documents</p>\n",
       "<li>Text Document <a href=\"files/text_doc_01.txt\">1</a> </li>\n",
       "<li>Text Document <a href=\"files/text_doc_02.txt\">2</a></li>\n",
       "<li>Text Document <a href=\"files/text_doc_03.txt\">3</a></li>\n",
       "<li>Text Document <a href=\"files/text_doc_04.txt\">4</a></li>\n",
       "<li>Text Document <a href=\"files/text_doc_05.txt\">5</a></li>\n",
       "<li>Text Document <a href=\"files/text_doc_06.txt\">6</a></li>\n",
       "<li>Text Document <a href=\"files/text_doc_07.txt\">7</a></li>\n",
       "<li>Text Document <a href=\"files/text_doc_08.txt\">8</a></li>\n",
       "<li>Text Document <a href=\"files/text_doc_09.txt\">9</a></li>\n",
       "<li>Text Document <a href=\"files/text_doc_10.txt\">10</a></li>\n",
       "</ul>\n",
       "<li>Junk Li <a href=\"\">tag 3</a></li>\n",
       "<li>Junk Li <a href=\"\">tag 4</a></li>\n",
       "<ul class=\"pdfs downloadable\">\n",
       "<p class=\"pages\">Download this list of PDFs</p>\n",
       "<li>PDF Document <a href=\"files/pdf_1.pdf\">1</a> </li>\n",
       "<li>PDF Document <a href=\"files/pdf_2.pdf\">2</a></li>\n",
       "<li>PDF Document <a href=\"files/pdf_3.pdf\">3</a></li>\n",
       "<li>PDF Document <a href=\"files/pdf_4.pdf\">4</a></li>\n",
       "<li>PDF Document <a href=\"files/pdf_5.pdf\">5</a></li>\n",
       "<li>PDF Document <a href=\"files/pdf_6.pdf\">6</a></li>\n",
       "<li>PDF Document <a href=\"files/pdf_7.pdf\">7</a></li>\n",
       "<li>PDF Document <a href=\"files/pdf_8.pdf\">8</a></li>\n",
       "<li>PDF Document <a href=\"files/pdf_9.pdf\">9</a></li>\n",
       "<li>PDF Document <a href=\"files/pdf_10.pdf\">10</a></li>\n",
       "</ul>\n",
       "<li>Junk Li <a href=\"\">tag 5</a></li>\n",
       "<li>Junk Li <a href=\"\">tag 6</a></li>\n",
       "<ul class=\"txts downloadable\">\n",
       "<p class=\"pages\">Download this second set of text documents</p>\n",
       "<li>Text Document <a href=\"files/text_doc_A.txt\">1</a> </li>\n",
       "<li>Text Document <a href=\"files/text_doc_B.txt\">2</a></li>\n",
       "<li>Text Document <a href=\"files/text_doc_C.txt\">3</a></li>\n",
       "<li>Text Document <a href=\"files/text_doc_D.txt\">4</a></li>\n",
       "<li>Text Document <a href=\"files/text_doc_E.txt\">5</a></li>\n",
       "<li>Text Document <a href=\"files/text_doc_F.txt\">6</a></li>\n",
       "<li>Text Document <a href=\"files/text_doc_G.txt\">7</a></li>\n",
       "<li>Text Document <a href=\"files/text_doc_H.txt\">8</a></li>\n",
       "<li>Text Document <a href=\"files/text_doc_I.txt\">9</a></li>\n",
       "<li>Text Document <a href=\"files/text_doc_J.txt\">10</a></li>\n",
       "</ul>\n",
       "</div>\n",
       "</body>\n",
       "</html>"
      ]
     },
     "execution_count": 48,
     "metadata": {},
     "output_type": "execute_result"
    }
   ],
   "source": [
    "## make soup of the page\n",
    "soup"
   ]
  },
  {
   "cell_type": "code",
   "execution_count": 49,
   "metadata": {},
   "outputs": [
    {
     "data": {
      "text/plain": [
       "[<ul class=\"txts downloadable\">\n",
       " <p class=\"pages\">Download this first set of text documents</p>\n",
       " <li>Text Document <a href=\"files/text_doc_01.txt\">1</a> </li>\n",
       " <li>Text Document <a href=\"files/text_doc_02.txt\">2</a></li>\n",
       " <li>Text Document <a href=\"files/text_doc_03.txt\">3</a></li>\n",
       " <li>Text Document <a href=\"files/text_doc_04.txt\">4</a></li>\n",
       " <li>Text Document <a href=\"files/text_doc_05.txt\">5</a></li>\n",
       " <li>Text Document <a href=\"files/text_doc_06.txt\">6</a></li>\n",
       " <li>Text Document <a href=\"files/text_doc_07.txt\">7</a></li>\n",
       " <li>Text Document <a href=\"files/text_doc_08.txt\">8</a></li>\n",
       " <li>Text Document <a href=\"files/text_doc_09.txt\">9</a></li>\n",
       " <li>Text Document <a href=\"files/text_doc_10.txt\">10</a></li>\n",
       " </ul>,\n",
       " <ul class=\"txts downloadable\">\n",
       " <p class=\"pages\">Download this second set of text documents</p>\n",
       " <li>Text Document <a href=\"files/text_doc_A.txt\">1</a> </li>\n",
       " <li>Text Document <a href=\"files/text_doc_B.txt\">2</a></li>\n",
       " <li>Text Document <a href=\"files/text_doc_C.txt\">3</a></li>\n",
       " <li>Text Document <a href=\"files/text_doc_D.txt\">4</a></li>\n",
       " <li>Text Document <a href=\"files/text_doc_E.txt\">5</a></li>\n",
       " <li>Text Document <a href=\"files/text_doc_F.txt\">6</a></li>\n",
       " <li>Text Document <a href=\"files/text_doc_G.txt\">7</a></li>\n",
       " <li>Text Document <a href=\"files/text_doc_H.txt\">8</a></li>\n",
       " <li>Text Document <a href=\"files/text_doc_I.txt\">9</a></li>\n",
       " <li>Text Document <a href=\"files/text_doc_J.txt\">10</a></li>\n",
       " </ul>]"
      ]
     },
     "execution_count": 49,
     "metadata": {},
     "output_type": "execute_result"
    }
   ],
   "source": [
    "## narrow to class\n",
    "targets = soup.find_all(\"ul\", class_=\"txts\")\n",
    "targets"
   ]
  },
  {
   "cell_type": "code",
   "execution_count": 50,
   "metadata": {},
   "outputs": [
    {
     "data": {
      "text/plain": [
       "[[<a href=\"files/text_doc_01.txt\">1</a>,\n",
       "  <a href=\"files/text_doc_02.txt\">2</a>,\n",
       "  <a href=\"files/text_doc_03.txt\">3</a>,\n",
       "  <a href=\"files/text_doc_04.txt\">4</a>,\n",
       "  <a href=\"files/text_doc_05.txt\">5</a>,\n",
       "  <a href=\"files/text_doc_06.txt\">6</a>,\n",
       "  <a href=\"files/text_doc_07.txt\">7</a>,\n",
       "  <a href=\"files/text_doc_08.txt\">8</a>,\n",
       "  <a href=\"files/text_doc_09.txt\">9</a>,\n",
       "  <a href=\"files/text_doc_10.txt\">10</a>],\n",
       " [<a href=\"files/text_doc_A.txt\">1</a>,\n",
       "  <a href=\"files/text_doc_B.txt\">2</a>,\n",
       "  <a href=\"files/text_doc_C.txt\">3</a>,\n",
       "  <a href=\"files/text_doc_D.txt\">4</a>,\n",
       "  <a href=\"files/text_doc_E.txt\">5</a>,\n",
       "  <a href=\"files/text_doc_F.txt\">6</a>,\n",
       "  <a href=\"files/text_doc_G.txt\">7</a>,\n",
       "  <a href=\"files/text_doc_H.txt\">8</a>,\n",
       "  <a href=\"files/text_doc_I.txt\">9</a>,\n",
       "  <a href=\"files/text_doc_J.txt\">10</a>]]"
      ]
     },
     "execution_count": 50,
     "metadata": {},
     "output_type": "execute_result"
    }
   ],
   "source": [
    "## narrow to links\n",
    "atags = [atag.find_all(\"a\") for atag in targets]\n",
    "atags\n"
   ]
  },
  {
   "cell_type": "code",
   "execution_count": 51,
   "metadata": {},
   "outputs": [],
   "source": [
    "## flatter our nested list\n",
    "## we can itertools to flatten a list of list\n",
    "##flattened_list = list(chain.from_iterable(list_of_lists))"
   ]
  },
  {
   "cell_type": "code",
   "execution_count": 52,
   "metadata": {},
   "outputs": [],
   "source": [
    "## import itertools\n",
    "from itertools import chain"
   ]
  },
  {
   "cell_type": "code",
   "execution_count": 53,
   "metadata": {},
   "outputs": [
    {
     "data": {
      "text/plain": [
       "[<a href=\"files/text_doc_01.txt\">1</a>,\n",
       " <a href=\"files/text_doc_02.txt\">2</a>,\n",
       " <a href=\"files/text_doc_03.txt\">3</a>,\n",
       " <a href=\"files/text_doc_04.txt\">4</a>,\n",
       " <a href=\"files/text_doc_05.txt\">5</a>,\n",
       " <a href=\"files/text_doc_06.txt\">6</a>,\n",
       " <a href=\"files/text_doc_07.txt\">7</a>,\n",
       " <a href=\"files/text_doc_08.txt\">8</a>,\n",
       " <a href=\"files/text_doc_09.txt\">9</a>,\n",
       " <a href=\"files/text_doc_10.txt\">10</a>,\n",
       " <a href=\"files/text_doc_A.txt\">1</a>,\n",
       " <a href=\"files/text_doc_B.txt\">2</a>,\n",
       " <a href=\"files/text_doc_C.txt\">3</a>,\n",
       " <a href=\"files/text_doc_D.txt\">4</a>,\n",
       " <a href=\"files/text_doc_E.txt\">5</a>,\n",
       " <a href=\"files/text_doc_F.txt\">6</a>,\n",
       " <a href=\"files/text_doc_G.txt\">7</a>,\n",
       " <a href=\"files/text_doc_H.txt\">8</a>,\n",
       " <a href=\"files/text_doc_I.txt\">9</a>,\n",
       " <a href=\"files/text_doc_J.txt\">10</a>]"
      ]
     },
     "execution_count": 53,
     "metadata": {},
     "output_type": "execute_result"
    }
   ],
   "source": [
    "## flatten using itertools\n",
    "flat_targets = list(chain.from_iterable(atags))\n",
    "flat_targets"
   ]
  },
  {
   "cell_type": "code",
   "execution_count": 54,
   "metadata": {},
   "outputs": [
    {
     "data": {
      "text/plain": [
       "['https://sandeepmj.github.io/scrape-example-page/files/text_doc_01.txt',\n",
       " 'https://sandeepmj.github.io/scrape-example-page/files/text_doc_02.txt',\n",
       " 'https://sandeepmj.github.io/scrape-example-page/files/text_doc_03.txt',\n",
       " 'https://sandeepmj.github.io/scrape-example-page/files/text_doc_04.txt',\n",
       " 'https://sandeepmj.github.io/scrape-example-page/files/text_doc_05.txt',\n",
       " 'https://sandeepmj.github.io/scrape-example-page/files/text_doc_06.txt',\n",
       " 'https://sandeepmj.github.io/scrape-example-page/files/text_doc_07.txt',\n",
       " 'https://sandeepmj.github.io/scrape-example-page/files/text_doc_08.txt',\n",
       " 'https://sandeepmj.github.io/scrape-example-page/files/text_doc_09.txt',\n",
       " 'https://sandeepmj.github.io/scrape-example-page/files/text_doc_10.txt',\n",
       " 'https://sandeepmj.github.io/scrape-example-page/files/text_doc_A.txt',\n",
       " 'https://sandeepmj.github.io/scrape-example-page/files/text_doc_B.txt',\n",
       " 'https://sandeepmj.github.io/scrape-example-page/files/text_doc_C.txt',\n",
       " 'https://sandeepmj.github.io/scrape-example-page/files/text_doc_D.txt',\n",
       " 'https://sandeepmj.github.io/scrape-example-page/files/text_doc_E.txt',\n",
       " 'https://sandeepmj.github.io/scrape-example-page/files/text_doc_F.txt',\n",
       " 'https://sandeepmj.github.io/scrape-example-page/files/text_doc_G.txt',\n",
       " 'https://sandeepmj.github.io/scrape-example-page/files/text_doc_H.txt',\n",
       " 'https://sandeepmj.github.io/scrape-example-page/files/text_doc_I.txt',\n",
       " 'https://sandeepmj.github.io/scrape-example-page/files/text_doc_J.txt']"
      ]
     },
     "execution_count": 54,
     "metadata": {},
     "output_type": "execute_result"
    }
   ],
   "source": [
    "## capture links, add base urls\n",
    "base_url = \"https://sandeepmj.github.io/scrape-example-page/\"\n",
    "\n",
    "urls = [base_url + item.get(\"href\") for item in flat_targets]\n",
    "urls"
   ]
  },
  {
   "cell_type": "code",
   "execution_count": 55,
   "metadata": {},
   "outputs": [
    {
     "name": "stdout",
     "output_type": "stream",
     "text": [
      "Requirement already satisfied: wget in /opt/anaconda3/lib/python3.12/site-packages (3.2)\n",
      "Note: you may need to restart the kernel to use updated packages.\n"
     ]
    }
   ],
   "source": [
    "pip install wget"
   ]
  },
  {
   "cell_type": "code",
   "execution_count": 56,
   "metadata": {},
   "outputs": [],
   "source": [
    "## import wget\n",
    "import wget"
   ]
  },
  {
   "cell_type": "code",
   "execution_count": 57,
   "metadata": {},
   "outputs": [
    {
     "name": "stdout",
     "output_type": "stream",
     "text": [
      "Downloading link 1 of 20\n",
      "100% [................................................................] 76 / 76"
     ]
    },
    {
     "ename": "NameError",
     "evalue": "name 'timer' is not defined",
     "output_type": "error",
     "traceback": [
      "\u001b[0;31m---------------------------------------------------------------------------\u001b[0m",
      "\u001b[0;31mNameError\u001b[0m                                 Traceback (most recent call last)",
      "Cell \u001b[0;32mIn[57], line 5\u001b[0m\n\u001b[1;32m      3\u001b[0m \u001b[38;5;28mprint\u001b[39m(\u001b[38;5;124mf\u001b[39m\u001b[38;5;124m\"\u001b[39m\u001b[38;5;124mDownloading link \u001b[39m\u001b[38;5;132;01m{\u001b[39;00mi\u001b[38;5;132;01m}\u001b[39;00m\u001b[38;5;124m of \u001b[39m\u001b[38;5;132;01m{\u001b[39;00m\u001b[38;5;28mlen\u001b[39m(urls)\u001b[38;5;132;01m}\u001b[39;00m\u001b[38;5;124m\"\u001b[39m)\n\u001b[1;32m      4\u001b[0m wget\u001b[38;5;241m.\u001b[39mdownload(link)\n\u001b[0;32m----> 5\u001b[0m timer(\u001b[38;5;241m10\u001b[39m,\u001b[38;5;241m20\u001b[39m)\n",
      "\u001b[0;31mNameError\u001b[0m: name 'timer' is not defined"
     ]
    }
   ],
   "source": [
    "## download all\n",
    "for i, link in enumerate(urls, start  = 1):\n",
    "    print(f\"Downloading link {i} of {len(urls)}\")\n",
    "    wget.download(link)\n",
    "    timer(10,20)"
   ]
  },
  {
   "cell_type": "code",
   "execution_count": null,
   "metadata": {},
   "outputs": [],
   "source": [
    "\n"
   ]
  }
 ],
 "metadata": {
  "celltoolbar": "Slideshow",
  "colab": {
   "collapsed_sections": [
    "u1gQhop93U1m",
    "KEs8xN58isXw"
   ],
   "provenance": []
  },
  "kernelspec": {
   "display_name": "Python [conda env:base] *",
   "language": "python",
   "name": "conda-base-py"
  },
  "language_info": {
   "codemirror_mode": {
    "name": "ipython",
    "version": 3
   },
   "file_extension": ".py",
   "mimetype": "text/x-python",
   "name": "python",
   "nbconvert_exporter": "python",
   "pygments_lexer": "ipython3",
   "version": "3.12.7"
  }
 },
 "nbformat": 4,
 "nbformat_minor": 4
}
